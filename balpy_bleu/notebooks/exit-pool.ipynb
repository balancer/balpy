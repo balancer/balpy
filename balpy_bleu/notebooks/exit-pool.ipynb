{
 "cells": [
  {
   "cell_type": "code",
   "execution_count": 1,
   "metadata": {},
   "outputs": [],
   "source": [
    "from balpy.lib import get_web3_contract\n",
    "from balpy.constants import VAULT_ADDRESSES, Chain\n",
    "\n",
    "\n",
    "class Vault:\n",
    "    def __init__(self, chain=Chain.mainnet):\n",
    "        self.chain = chain\n",
    "        self.contract = get_web3_contract(VAULT_ADDRESSES[chain])\n",
    "\n",
    "    def get_protocol_fees_collector(self):\n",
    "        return self.contract.functions.getProtocolFeesCollector().call()\n",
    "# Exit flow on the FE\n",
    "# https://github.com/balancer/balancer-sdk/blob/aa6b4dc3a02138f878feabd98ec72e8f06b4e68d/balancer-js/examples/exitGeneralised.ts#L185\n",
    "# exit_pool parameters\n",
    "# poolId (bytes32)\n",
    "#   poolId (bytes32)\n",
    "# sender (address)\n",
    "#   sender (address)\n",
    "# recipient (address)\n",
    "#   recipient (address)\n",
    "# request (tuple)\n",
    "    # assets\n",
    "    # assets (address[])\n",
    "    # minAmountsOut (or limits in the PoolBalanceChange struct)\n",
    "    # could probably be minAmountsOut: new Array(assets.length).fill('0'),\n",
    "    # see https://github.com/balancer/balancer-sdk/blob/aa6b4dc3a02138f878feabd98ec72e8f06b4e68d/balancer-js/src/modules/relayer/actions.ts#L87\n",
    "    # minAmountsOut (uint256[])\n",
    "    # userData -- this is built by hand, encodes the following:\n",
    "#       // Exit pool proportionally or to a singleToken\n",
    "#   if (exitTokenIndex > -1) {\n",
    "#     userData = StablePoolEncoder.exitExactBPTInForOneTokenOut(\n",
    "#       amount,\n",
    "#       exitTokenIndex\n",
    "#     );\n",
    "#   } else {\n",
    "#     const encoder = isComposable\n",
    "#       ? ComposableStablePoolEncoder.exitExactBPTInForAllTokensOut\n",
    "#       : StablePoolEncoder.exitExactBPTInForTokensOut;\n",
    "#     userData = encoder(amount);\n",
    "#   }\n",
    "    # userData (bytes)\n",
    "    # toInternalBalance\n",
    "    # toInternalBalance (bool)\n",
    "    def exit_pool(self, poolId, recipient, assets, min_amounts_out, user_data, to_internal_balance):\n",
    "        # Calls _joinOrExit(PoolBalanceChangeKind.EXIT, poolId, sender, recipient, _toPoolBalanceChange(request));\n",
    "        # in PoolBalances contract\n",
    "        # What is _toPoolBalanceChange(request)?\n",
    "        # calls pool.onExitPool\n",
    "        # // The Vault ignores the `recipient` in joins and the `sender` in exits: it is up to the Pool to keep track of\n",
    "        # // their participation.\n",
    "        # calls _processExitPoolTransfers\n",
    "        # The vault ignores the sender so we can send anything here\n",
    "        # request is turned into _toPoolBalanceChange(request)\n",
    "        # request type first is ExitPoolRequest, and _toPoolBalanceChange returns PoolBalanceChange\n",
    "        return self.contract.functions.exitPool(poolId, recipient, recipient, (assets, min_amounts_out, user_data, to_internal_balance)).call()\n",
    "    "
   ]
  },
  {
   "cell_type": "code",
   "execution_count": null,
   "metadata": {},
   "outputs": [],
   "source": []
  },
  {
   "cell_type": "code",
   "execution_count": null,
   "metadata": {},
   "outputs": [],
   "source": []
  }
 ],
 "metadata": {
  "kernelspec": {
   "display_name": "balpy-0hst0pXa-py3.11",
   "language": "python",
   "name": "python3"
  },
  "language_info": {
   "codemirror_mode": {
    "name": "ipython",
    "version": 3
   },
   "file_extension": ".py",
   "mimetype": "text/x-python",
   "name": "python",
   "nbconvert_exporter": "python",
   "pygments_lexer": "ipython3",
   "version": "3.11.2"
  },
  "orig_nbformat": 4
 },
 "nbformat": 4,
 "nbformat_minor": 2
}
