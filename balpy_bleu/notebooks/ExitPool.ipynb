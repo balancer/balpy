{
 "cells": [
  {
   "attachments": {},
   "cell_type": "markdown",
   "metadata": {},
   "source": [
    "# Exit pool description\n",
    "\n",
    "As explained in [Balancer Docs](https://docs.balancer.fi/reference/joins-and-exits/pool-exits.html), the exit pool has 6 arguments:\n",
    "- poolId - ID of the pool you're interacting with\n",
    "- sender - Address sending BPT\n",
    "- recipient - Address receiving tokens (usually the same as sender)\n",
    "- request - ExitPoolRequest tuple made up of the following:\n",
    "    - assets - List of your tokens, ordered. When providing your assets, you must ensure that the tokens are sorted numerically by token address. It's also important to note that the values in minAmountsOut correspond to the same index value in assets, so these arrays must be made in parallel after sorting.\n",
    "    - minAmountsOut - Minimum token receive amounts. In the exitPool call, you have to provide minAmountsOut, the lower limits for the tokens to receive. In short, what are the minimum amounts you would find acceptable, given the amount of BPT you are providing?\n",
    "    - userData - Custom bytes field (see below)\n",
    "    - toInternalBalance - True if you receiving tokens as internal token balances. False if receiving as ERC20.\n",
    "\n",
    "There is 4 kinds of exit pools:\n",
    "- EXACT_BPT_IN_FOR_ONE_TOKEN_OUT: User sends a precise quantity of BPT, and receives an estimated but unknown (computed at run time) quantity of a single token.\n",
    "- EXACT_BPT_IN_FOR_TOKENS_OUT: User sends a precise quantity of BPT, and receives an estimated but unknown (computed at run time) quantities of all tokens.\n",
    "- BPT_IN_FOR_EXACT_TOKENS_OUT: User sends an estimated but unknown (computed at run time) quantity of BPT, and receives precise quantities of specified tokens.\n",
    "- MANAGEMENT_FEE_TOKENS_OUT: This is used as an internal function only, so it is out of the scope.\n",
    "\n",
    "Now, let's try to understand the parameters for each kind of transfer. As example, let's say that the user wants to leave the [80BAL-20WETH Pool](https://app.balancer.fi/#/ethereum/pool/0x5c6ee304399dbdb9c8ef030ab642b10820db8f56000200000000000000000014). So, the fixed values will be:\n",
    "- pool_id: 0x5c6ee304399dbdb9c8ef030ab642b10820db8f56000200000000000000000014\n",
    "- sender: $user_address\n",
    "- recipient: $user_adress\n",
    "- request.toInternalBalance: True #(the user can set it but this will be the default).\n",
    "- request.minAmountOut: 0,0 #(the user can set it but this will be the default)."
   ]
  },
  {
   "cell_type": "code",
   "execution_count": 1,
   "metadata": {},
   "outputs": [
    {
     "data": {
      "text/plain": [
       "{'assets': ['0xba100000625a3754423978a60c9317c58a424e3d',\n",
       "  '0xc02aaa39b223fe8d0a0e5c4f27ead9083c756cc2']}"
      ]
     },
     "execution_count": 1,
     "metadata": {},
     "output_type": "execute_result"
    }
   ],
   "source": [
    "weth_address = \"0xc02aaa39b223fe8d0a0e5c4f27ead9083c756cc2\"\n",
    "bal_address = \"0xba100000625a3754423978a60c9317c58a424e3d\"\n",
    "request = {\n",
    "    \"assets\":sorted([weth_address, bal_address]),\n",
    "}\n",
    "\n",
    "request"
   ]
  },
  {
   "attachments": {},
   "cell_type": "markdown",
   "metadata": {},
   "source": [
    "This means that the bal is the first asset and the weth is the second asset"
   ]
  },
  {
   "attachments": {},
   "cell_type": "markdown",
   "metadata": {},
   "source": [
    "## EXACT_BPT_IN_FOR_ONE_TOKEN_OUT\n",
    "\n",
    "- userData ABI: ['uint256', 'uint256', 'uint256']\n",
    "- userData: [EXACT_BPT_IN_FOR_ONE_TOKEN_OUT, bptAmountIn, exitTokenIndex]\n"
   ]
  },
  {
   "cell_type": "code",
   "execution_count": 11,
   "metadata": {},
   "outputs": [],
   "source": [
    "# from balpy\n",
    "\n",
    "from enum import IntEnum\n",
    "\n",
    "class WeightedPoolJoinKind(IntEnum):\n",
    "  INIT = 0\n",
    "  EXACT_TOKENS_IN_FOR_BPT_OUT = 1\n",
    "  TOKEN_IN_FOR_EXACT_BPT_OUT = 2\n",
    "  ALL_TOKENS_IN_FOR_EXACT_BPT_OUT = 3\n",
    "\n",
    "class WeightedPoolExitKind(IntEnum):\n",
    "  EXACT_BPT_IN_FOR_ONE_TOKEN_OUT = 0\n",
    "  EXACT_BPT_IN_FOR_TOKENS_OUT = 1\n",
    "  BPT_IN_FOR_EXACT_TOKENS_OUT = 2\n",
    "  MANAGEMENT_FEE_TOKENS_OUT = 3\n"
   ]
  },
  {
   "cell_type": "code",
   "execution_count": 17,
   "metadata": {},
   "outputs": [
    {
     "data": {
      "text/plain": [
       "b'\\x00\\x00\\x00\\x00\\x00\\x00\\x00\\x00\\x00\\x00\\x00\\x00\\x00\\x00\\x00\\x00\\x00\\x00\\x00\\x00\\x00\\x00\\x00\\x00\\x00\\x00\\x00\\x00\\x00\\x00\\x00\\x00\\x00\\x00\\x00\\x00\\x00\\x00\\x00\\x00\\x00\\x00\\x00\\x00\\x00\\x00\\x00\\x00\\x00\\x00\\x00\\x00\\x00\\x00\\x00\\x00\\x00\\x00\\x00\\x00\\x00\\x00\\x00\\x01\\x00\\x00\\x00\\x00\\x00\\x00\\x00\\x00\\x00\\x00\\x00\\x00\\x00\\x00\\x00\\x00\\x00\\x00\\x00\\x00\\x00\\x00\\x00\\x00\\x00\\x00\\x00\\x00\\x00\\x00\\x00\\x01'"
      ]
     },
     "execution_count": 17,
     "metadata": {},
     "output_type": "execute_result"
    }
   ],
   "source": [
    "import eth_abi\n",
    "\n",
    "transaction_type = \"EXACT_BPT_IN_FOR_ONE_TOKEN_OUT\"\n",
    "bptAmountIn = 1\n",
    "exitTokenIndex = 1 # WETH\n",
    "\n",
    "user_data = eth_abi.encode(['uint256', 'uint256', 'uint256'],\n",
    "                           [WeightedPoolExitKind[transaction_type], bptAmountIn, exitTokenIndex]);\n",
    "user_data\n"
   ]
  },
  {
   "attachments": {},
   "cell_type": "markdown",
   "metadata": {},
   "source": [
    "## EXACT_BPT_IN_FOR_TOKENS_OUT\n",
    "\n",
    "- userData ABI: ['uint256', 'uint256']\n",
    "- userData: [EXACT_BPT_IN_FOR_TOKENS_OUT, bptAmountIn]"
   ]
  },
  {
   "cell_type": "code",
   "execution_count": 28,
   "metadata": {},
   "outputs": [
    {
     "data": {
      "text/plain": [
       "b'\\x00\\x00\\x00\\x00\\x00\\x00\\x00\\x00\\x00\\x00\\x00\\x00\\x00\\x00\\x00\\x00\\x00\\x00\\x00\\x00\\x00\\x00\\x00\\x00\\x00\\x00\\x00\\x00\\x00\\x00\\x00\\x01\\x00\\x00\\x00\\x00\\x00\\x00\\x00\\x00\\x00\\x00\\x00\\x00\\x00\\x00\\x00\\x00\\x00\\x00\\x00\\x00\\x00\\x00\\x00\\x00\\x00\\x00\\x00\\x00\\x00\\x00\\x00\\x01'"
      ]
     },
     "execution_count": 28,
     "metadata": {},
     "output_type": "execute_result"
    }
   ],
   "source": [
    "transaction_type = \"EXACT_BPT_IN_FOR_TOKENS_OUT\"\n",
    "bptAmountIn = 1\n",
    "\n",
    "user_data = eth_abi.encode(['uint256', 'uint256'],\n",
    "                           [WeightedPoolExitKind[transaction_type], bptAmountIn]);\n",
    "user_data"
   ]
  },
  {
   "attachments": {},
   "cell_type": "markdown",
   "metadata": {},
   "source": [
    "## BPT_IN_FOR_EXACT_TOKENS_OUT\n",
    "\n",
    "- userData ABI: ['uint256', 'uint256[]', 'uint256']\n",
    "- userData: [BPT_IN_FOR_EXACT_TOKENS_OUT, amountsOut, maxBPTAmountIn]\n"
   ]
  },
  {
   "cell_type": "code",
   "execution_count": 27,
   "metadata": {},
   "outputs": [
    {
     "data": {
      "text/plain": [
       "b'\\x00\\x00\\x00\\x00\\x00\\x00\\x00\\x00\\x00\\x00\\x00\\x00\\x00\\x00\\x00\\x00\\x00\\x00\\x00\\x00\\x00\\x00\\x00\\x00\\x00\\x00\\x00\\x00\\x00\\x00\\x00\\x02\\x00\\x00\\x00\\x00\\x00\\x00\\x00\\x00\\x00\\x00\\x00\\x00\\x00\\x00\\x00\\x00\\x00\\x00\\x00\\x00\\x00\\x00\\x00\\x00\\x00\\x00\\x00\\x00\\x00\\x00\\x00`\\x00\\x00\\x00\\x00\\x00\\x00\\x00\\x00\\x00\\x00\\x00\\x00\\x00\\x00\\x00\\x00\\x00\\x00\\x00\\x00\\x00\\x00\\x00\\x00\\x00\\x00\\x00\\x00\\x00\\x00\\xa5e\\x00\\x00\\x00\\x00\\x00\\x00\\x00\\x00\\x00\\x00\\x00\\x00\\x00\\x00\\x00\\x00\\x00\\x00\\x00\\x00\\x00\\x00\\x00\\x00\\x00\\x00\\x00\\x00\\x00\\x00\\x00\\x02\\x00\\x00\\x00\\x00\\x00\\x00\\x00\\x00\\x00\\x00\\x00\\x00\\x00\\x00\\x00\\x00\\x00\\x00\\x00\\x00\\x00\\x00\\x00\\x00\\x00\\x00\\x00\\x00\\x00\\x00\\x05\\x98\\x00\\x00\\x00\\x00\\x00\\x00\\x00\\x00\\x00\\x00\\x00\\x00\\x00\\x00\\x00\\x00\\x00\\x00\\x00\\x00\\x00\\x00\\x00\\x00\\x00\\x00\\x00\\x00\\x00\\x00\\tw'"
      ]
     },
     "execution_count": 27,
     "metadata": {},
     "output_type": "execute_result"
    }
   ],
   "source": [
    "transaction_type = \"BPT_IN_FOR_EXACT_TOKENS_OUT\"\n",
    "amountsOut = [1432, 2423]\n",
    "maxBPTAmountIn = 42341 # the user should set or we should provide a default (max)?\n",
    "\n",
    "user_data = eth_abi.encode(['uint256', 'uint256[]','uint256'],\n",
    "                           [WeightedPoolExitKind[transaction_type], amountsOut, maxBPTAmountIn])\n",
    "user_data\n"
   ]
  },
  {
   "attachments": {},
   "cell_type": "markdown",
   "metadata": {},
   "source": [
    "# Function example"
   ]
  },
  {
   "cell_type": "code",
   "execution_count": 75,
   "metadata": {},
   "outputs": [
    {
     "ename": "SyntaxError",
     "evalue": "invalid syntax (3771093709.py, line 43)",
     "output_type": "error",
     "traceback": [
      "\u001b[0;36m  Cell \u001b[0;32mIn[75], line 43\u001b[0;36m\u001b[0m\n\u001b[0;31m    if exit_type == \"\"\u001b[0m\n\u001b[0m                      ^\u001b[0m\n\u001b[0;31mSyntaxError\u001b[0m\u001b[0;31m:\u001b[0m invalid syntax\n"
     ]
    }
   ],
   "source": [
    "import balpy\n",
    "import os\n",
    "from web3 import Web3\n",
    "from typing import List\n",
    "\n",
    "from abc import ABC, abstractmethod, abstractproperty\n",
    "import enum\n",
    "\n",
    "class WeightedPoolExitKindAbstracted(ABC):\n",
    "  @staticmethod\n",
    "  def getDefaultMinAmountsOut(token_list):\n",
    "    return [0] * len(token_list)\n",
    "\n",
    "  @abstractproperty\n",
    "  def id():\n",
    "    pass\n",
    "  \n",
    "  @abstractmethod\n",
    "  def getUserData():\n",
    "    pass\n",
    "\n",
    "  @abstractmethod\n",
    "  def sortTokenList():\n",
    "    pass\n",
    "\n",
    "  @abstractmethod\n",
    "  def getExitPoolRequestTuple():\n",
    "    pass\n",
    "\n",
    "\n",
    "class ExactBptInForOneTokenOut(WeightedPoolExitKindAbstracted):\n",
    "  id = 0\n",
    "\n",
    "  def sortTokenList(self, w3, token_list, token_out, min_amounts_out):\n",
    "    token_list_address = [w3.toChecksumAddress(token) for token in token_list]\n",
    "    min_amounts_out_sorted = [minAmountOut for _,minAmountOut in sorted(zip(token_list_address, min_amounts_out))]\n",
    "    token_out_address = w3.toChecksumAddress(token_list_address[token_out])\n",
    "    token_list_address_sorted = sorted(token_list_address)\n",
    "    token_out_sorted = token_list_address_sorted.index(token_out_address)\n",
    "    return token_list_address_sorted, token_out_sorted, min_amounts_out_sorted\n",
    "\n",
    "  def getUserData(self, bpt_amount, token_out):\n",
    "    return eth_abi.encode(['uint256', 'uint256', 'uint256'], [id, bpt_amount, token_out])  \n",
    "\n",
    "  def getExitPoolRequestTuple(self, w3, token_list, bpt_amount, token_out, to_internal_balance: bool = True, min_amounts_out: List[int]= None):\n",
    "    if min_amounts_out is None:\n",
    "      min_amounts_out = self.getDefaultMinAmountsOut(token_list)\n",
    "    token_list, token_out, min_amounts_out = self.sortTokenList(w3, token_list, token_out, min_amounts_out)\n",
    "    user_data = self.getUserData(bpt_amount, token_out)\n",
    "    return (token_list, min_amounts_out, user_data, to_internal_balance)\n",
    "\n",
    "\n",
    "class WeightedPoolExitKind(enum.Enum):\n",
    "  EXACT_BPT_IN_FOR_ONE_TOKEN_OUT = ExactBptInForOneTokenOut()\n",
    "\n",
    "class BalpyBleu():\n",
    "\tdef __init__(self, **balpy_kwargs):\n",
    "\t\tself.web3 = Web3(Web3.HTTPProvider(f\"https://eth.llamarpc.com/rpc/{os.getenv('LLAMA_PROJECT_ID')}\"))\n",
    "\t\tself.balpy = balpy.Balpy(self.web3, **balpy_kwargs)\n",
    "\n",
    "\n",
    "\tdef balDoExitPool(self, poolId, address, exitPoolRequestTuple, gasFactor=1.05, gasPriceSpeed=\"average\", nonceOverride=-1, gasEstimateOverride=-1, gasPriceGweiOverride=-1):\n",
    "\t\tvault = self.balLoadContract(\"Vault\");\n",
    "\t\texitPoolFunction = vault.functions.exitPool(poolId, address, address, exitPoolRequestTuple);\n",
    "\t\ttx = self.buildTx(exitPoolFunction, gasFactor, gasPriceSpeed, nonceOverride, gasEstimateOverride, gasPriceGweiOverride);\n",
    "\t\tprint(\"Transaction Generated!\");\n",
    "\t\ttxHash = self.sendTx(tx);\n",
    "\t\treturn(txHash);\n",
    "\n",
    "\tdef balExitPool(\n",
    "\t\tself, \n",
    "\t\tpoolId: str,\n",
    "\t\taddress: str,\n",
    "\t\tbptAmount: int,\n",
    "\t\ttokenList: List[str],\n",
    "\t\texitType:str, \n",
    "\t\ttokenOut:int = None,\n",
    "\t\tamountsOut:List[int] = [],\n",
    "\t\tquery:bool = False,\n",
    "\t\t**balDoExitPoolKwargs):\n",
    "\t\t\"\"\"\n",
    "\t\tpoolId: Id of the pool to exit\n",
    "\t\taddress: Address of the user to burn BPTs from and receive tokens to\n",
    "\t\tbpt_amount: Amount of BPTs to burn (if exit_type == \"EXACT_BPT_IN_FOR_ONE_TOKEN_OUT\" or \"EXACT_BPT_IN_FOR_TOKENS_OUT\")\n",
    "\t\t  \t\t    or max amount of BPTs to burn (if exit_type == \"BPT_IN_FOR_EXACT_TOKENS_OUT\")\n",
    "\t\ttoken_list: List of token addresses of the pool\n",
    "\t\texit_type: \"EXACT_BPT_IN_FOR_ONE_TOKEN_OUT\", \"EXACT_BPT_IN_FOR_TOKENS_OUT\", or \"BPT_IN_FOR_EXACT_TOKENS_OUT\"\n",
    "\t\ttoken_out: Index of the token (related to token_list order) to receive (if exit_type == \"EXACT_BPT_IN_FOR_ONE_TOKEN_OUT\")\n",
    "\t\tamounts_out: List of amounts of tokens (same order of token_list) to receive (if exit_type == \"BPT_IN_FOR_EXACT_TOKENS_OUT\")\n",
    "\t\tquery: If True, returns the transaction object without sending the transaction\n",
    "\t\t\"\"\"\n",
    "\n",
    "\t\t# self.checkExitPoolTypeAndArgumentsMatch(bpt_amount, token_list, exit_type, token_out, amounts_out)\n",
    "\t\texitPoolRequestTuple = WeightedPoolExitKind[exitType].value.\n",
    "\t\treturn\n",
    "\t\n"
   ]
  },
  {
   "cell_type": "code",
   "execution_count": 73,
   "metadata": {},
   "outputs": [],
   "source": [
    "from abc import ABC, abstractmethod, abstractproperty\n",
    "import enum\n",
    "\n",
    "class WeightedPoolExitKindAbstracted(ABC):\n",
    "  @staticmethod\n",
    "  def getDefaultMinAmountsOut(token_list):\n",
    "    return [0] * len(token_list)\n",
    "\n",
    "  @abstractproperty\n",
    "  def id():\n",
    "    pass\n",
    "  \n",
    "  @abstractmethod\n",
    "  def getUserData():\n",
    "    pass\n",
    "\n",
    "  @abstractmethod\n",
    "  def sortTokenList():\n",
    "    pass\n",
    "\n",
    "  @abstractmethod\n",
    "  def getExitPoolRequestTuple():\n",
    "    pass\n",
    "\n",
    "\n",
    "class ExactBptInForOneTokenOut(WeightedPoolExitKindAbstracted):\n",
    "  id = 0\n",
    "\n",
    "  def sortTokenList(self, w3, token_list, token_out, min_amounts_out):\n",
    "    token_list_address = [w3.toChecksumAddress(token) for token in token_list]\n",
    "    min_amounts_out_sorted = [minAmountOut for _,minAmountOut in sorted(zip(token_list_address, min_amounts_out))]\n",
    "    token_out_address = w3.toChecksumAddress(token_list_address[token_out])\n",
    "    token_list_address_sorted = sorted(token_list_address)\n",
    "    token_out_sorted = token_list_address_sorted.index(token_out_address)\n",
    "    return token_list_address_sorted, token_out_sorted, min_amounts_out_sorted\n",
    "\n",
    "  def getUserData(self, bpt_amount, token_out):\n",
    "    return eth_abi.encode(['uint256', 'uint256', 'uint256'], [id, bpt_amount, token_out])  \n",
    "\n",
    "  def getExitPoolRequestTuple(self, w3, token_list, bpt_amount, token_out, to_internal_balance: bool = True, min_amounts_out: List[int]= None):\n",
    "    if min_amounts_out is None:\n",
    "      min_amounts_out = self.getDefaultMinAmountsOut(token_list)\n",
    "    token_list, token_out, min_amounts_out = self.sortTokenList(w3, token_list, token_out, min_amounts_out)\n",
    "    user_data = self.getUserData(bpt_amount, token_out)\n",
    "    return (token_list, min_amounts_out, user_data, to_internal_balance)\n",
    "\n",
    "\n",
    "class WeightedPoolExitKind(enum.Enum):\n",
    "  EXACT_BPT_IN_FOR_ONE_TOKEN_OUT = ExactBptInForOneTokenOut()"
   ]
  },
  {
   "cell_type": "code",
   "execution_count": 59,
   "metadata": {},
   "outputs": [],
   "source": [
    "tester = BalpyBleu()\n",
    "tester.balExitPool(poolId=\"\", address=\"\", bpt_amount=2, token_list=[\"\", \"\"], exit_type=\"EXACT_BPT_IN_FOR_ONE_TOKEN_OUT\", token_out=1)"
   ]
  },
  {
   "cell_type": "code",
   "execution_count": 48,
   "metadata": {},
   "outputs": [
    {
     "ename": "AttributeError",
     "evalue": "module 'web3' has no attribute 'checkSumAddress'",
     "output_type": "error",
     "traceback": [
      "\u001b[0;31m---------------------------------------------------------------------------\u001b[0m",
      "\u001b[0;31mAttributeError\u001b[0m                            Traceback (most recent call last)",
      "Cell \u001b[0;32mIn[48], line 1\u001b[0m\n\u001b[0;32m----> 1\u001b[0m web3\u001b[39m.\u001b[39;49mcheckSumAddress(\u001b[39m\"\u001b[39m\u001b[39m\"\u001b[39m)\n",
      "\u001b[0;31mAttributeError\u001b[0m: module 'web3' has no attribute 'checkSumAddress'"
     ]
    }
   ],
   "source": [
    "web3.checkSumAddress(\"\")"
   ]
  },
  {
   "cell_type": "code",
   "execution_count": 74,
   "metadata": {},
   "outputs": [
    {
     "ename": "AttributeError",
     "evalue": "'str' object has no attribute 'toChecksumAddress'",
     "output_type": "error",
     "traceback": [
      "\u001b[0;31m---------------------------------------------------------------------------\u001b[0m",
      "\u001b[0;31mAttributeError\u001b[0m                            Traceback (most recent call last)",
      "Cell \u001b[0;32mIn[74], line 1\u001b[0m\n\u001b[0;32m----> 1\u001b[0m WeightedPoolExitKind\u001b[39m.\u001b[39;49mEXACT_BPT_IN_FOR_ONE_TOKEN_OUT\u001b[39m.\u001b[39;49mvalue\u001b[39m.\u001b[39;49mgetExitPoolRequestTuple(\u001b[39m'\u001b[39;49m\u001b[39m'\u001b[39;49m, \u001b[39m'\u001b[39;49m\u001b[39m'\u001b[39;49m, \u001b[39m'\u001b[39;49m\u001b[39m'\u001b[39;49m, \u001b[39m'\u001b[39;49m\u001b[39m'\u001b[39;49m)\n",
      "Cell \u001b[0;32mIn[73], line 43\u001b[0m, in \u001b[0;36mExactBptInForOneTokenOut.getExitPoolRequestTuple\u001b[0;34m(self, w3, token_list, bpt_amount, token_out, to_internal_balance, min_amounts_out)\u001b[0m\n\u001b[1;32m     41\u001b[0m \u001b[39mif\u001b[39;00m min_amounts_out \u001b[39mis\u001b[39;00m \u001b[39mNone\u001b[39;00m:\n\u001b[1;32m     42\u001b[0m   min_amounts_out \u001b[39m=\u001b[39m \u001b[39mself\u001b[39m\u001b[39m.\u001b[39mgetDefaultMinAmountsOut(token_list)\n\u001b[0;32m---> 43\u001b[0m token_list, token_out, min_amounts_out \u001b[39m=\u001b[39m \u001b[39mself\u001b[39;49m\u001b[39m.\u001b[39;49msortTokenList(w3, token_list, token_out, min_amounts_out)\n\u001b[1;32m     44\u001b[0m user_data \u001b[39m=\u001b[39m \u001b[39mself\u001b[39m\u001b[39m.\u001b[39mgetUserData(bpt_amount, token_out)\n\u001b[1;32m     45\u001b[0m \u001b[39mreturn\u001b[39;00m (token_list, min_amounts_out, user_data, to_internal_balance)\n",
      "Cell \u001b[0;32mIn[73], line 32\u001b[0m, in \u001b[0;36mExactBptInForOneTokenOut.sortTokenList\u001b[0;34m(self, w3, token_list, token_out, min_amounts_out)\u001b[0m\n\u001b[1;32m     30\u001b[0m token_list_address \u001b[39m=\u001b[39m [w3\u001b[39m.\u001b[39mtoChecksumAddress(token) \u001b[39mfor\u001b[39;00m token \u001b[39min\u001b[39;00m token_list]\n\u001b[1;32m     31\u001b[0m min_amounts_out_sorted \u001b[39m=\u001b[39m [minAmountOut \u001b[39mfor\u001b[39;00m _,minAmountOut \u001b[39min\u001b[39;00m \u001b[39msorted\u001b[39m(\u001b[39mzip\u001b[39m(token_list_address, min_amounts_out))]\n\u001b[0;32m---> 32\u001b[0m token_out_address \u001b[39m=\u001b[39m w3\u001b[39m.\u001b[39;49mtoChecksumAddress(token_list_address[token_out])\n\u001b[1;32m     33\u001b[0m token_list_address_sorted \u001b[39m=\u001b[39m \u001b[39msorted\u001b[39m(token_list_address)\n\u001b[1;32m     34\u001b[0m token_out_sorted \u001b[39m=\u001b[39m token_list_address_sorted\u001b[39m.\u001b[39mindex(token_out_address)\n",
      "\u001b[0;31mAttributeError\u001b[0m: 'str' object has no attribute 'toChecksumAddress'"
     ]
    }
   ],
   "source": [
    "WeightedPoolExitKind.EXACT_BPT_IN_FOR_ONE_TOKEN_OUT.value.getExitPoolRequestTuple('', '', '', '')"
   ]
  },
  {
   "cell_type": "code",
   "execution_count": null,
   "metadata": {},
   "outputs": [],
   "source": []
  }
 ],
 "metadata": {
  "kernelspec": {
   "display_name": ".venv",
   "language": "python",
   "name": "python3"
  },
  "language_info": {
   "codemirror_mode": {
    "name": "ipython",
    "version": 3
   },
   "file_extension": ".py",
   "mimetype": "text/x-python",
   "name": "python",
   "nbconvert_exporter": "python",
   "pygments_lexer": "ipython3",
   "version": "3.9.16"
  },
  "orig_nbformat": 4
 },
 "nbformat": 4,
 "nbformat_minor": 2
}
